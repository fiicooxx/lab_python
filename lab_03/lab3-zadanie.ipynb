{
 "cells": [
  {
   "cell_type": "markdown",
   "metadata": {},
   "source": [
    "#### Zadanie 1"
   ]
  },
  {
   "cell_type": "code",
   "execution_count": null,
   "metadata": {},
   "outputs": [],
   "source": [
    "import os\n",
    "import shutil\n",
    "\n",
    "def is_image_file(file_name):\n",
    "    return file_name.lower().endswith((\".jpg\", \".png\"))\n",
    "\n",
    "def organize_files(base_folder):\n",
    "    copy_folder = os.path.join(base_folder, \"kopie\")\n",
    "    os.makedirs(copy_folder)\n",
    "\n",
    "    report_path = os.path.join(base_folder, \"raport.txt\")\n",
    "    with open(report_path) as report_file:\n",
    "        report_file.write(\"Raport: \\n\\n\")\n",
    "\n",
    "        for folder_name in os.listdir(base_folder):\n",
    "            folder_path = os.path.join(base_folder, folder_name)\n",
    "\n",
    "            if os.path.isdir(folder_path):\n",
    "                report_file.write(f\"\\nFolder: {folder_path}\\n\")\n",
    "\n",
    "                photo_number = 0\n",
    "\n",
    "                for file_name in os.listdir(folder_path):\n",
    "                    file_path = os.path.join(folder_path, file_name)\n",
    "\n",
    "                    if os.path.isfile(file_path) and is_image_file(file_name):\n",
    "                        new_file_name = f\"{folder_name.upper()}_{photo_number}.jpg\" if file_name.lower().endswith(\".jpg\") else f\"{folder_name.upper()}_{photo_number}.png\"\n",
    "                        new_file_path = os.path.join(copy_folder, new_file_name)\n",
    "                        shutil.copyfile(file_path, new_file_path)\n",
    "\n",
    "                        report_file.write(f\"Stara nazwa: {file_name}\\n\")\n",
    "\n",
    "                        photo_number += 1\n",
    "\n",
    "    print(\"Successfully done. Check raport.txt.\")\n",
    "\n",
    "path = r\"Your path here!\"\n",
    "organize_files(path)\n"
   ]
  },
  {
   "cell_type": "markdown",
   "metadata": {},
   "source": [
    "#### Zadanie 2"
   ]
  },
  {
   "cell_type": "code",
   "execution_count": null,
   "metadata": {},
   "outputs": [],
   "source": [
    "import smtplib\n",
    "import os\n",
    "\n",
    "try:\n",
    "    server = smtplib.SMTP('smtp.office365.com', 587)\n",
    "    server.starttls()\n",
    "\n",
    "    sender_login = \"...\"  \n",
    "    sender_password = os.getenv(\"sender_password\") \n",
    "\n",
    "    server.login(sender_login, sender_password)\n",
    "\n",
    "    message_from = \"...\" \n",
    "    message_to = \"...\" \n",
    "    \n",
    "    with open(r\"Your message content file path here!\", \"r\") as message_file:\n",
    "        message_content = message_file.read()\n",
    "\n",
    "    server.sendmail(message_from, message_to, message_content)\n",
    "\n",
    "    print(\"E-mail sent!\")\n",
    "\n",
    "except Exception as e:\n",
    "    print(f\"Error occured while sending email {e}\")\n",
    "\n",
    "finally:\n",
    "    server.quit()"
   ]
  },
  {
   "cell_type": "markdown",
   "metadata": {},
   "source": [
    "#### Zadanie 3"
   ]
  },
  {
   "cell_type": "code",
   "execution_count": 1,
   "metadata": {},
   "outputs": [],
   "source": [
    "import calendar\n",
    "from datetime import date\n",
    "\n",
    "def find_last_weekday(year, month):\n",
    "    _, last_day = calendar.monthrange(year, month)\n",
    "    last_day_of_month = date(year, month, last_day)\n",
    "\n",
    "    while last_day_of_month.weekday() in {calendar.SATURDAY, calendar.SUNDAY}:\n",
    "        last_day_of_month = last_day_of_month.replace(day=last_day_of_month.day - 1)\n",
    "\n",
    "    return last_day_of_month\n",
    "\n",
    "def display_payment_dates():\n",
    "    input_year = int(input(\"Enter the year: \"))\n",
    "\n",
    "    print(\"\\nPayment Dates for Each Month:\\n\")\n",
    "\n",
    "    for month in range(1, 13):\n",
    "        last_weekday = find_last_weekday(input_year, month)\n",
    "        month_name = last_weekday.strftime(\"%B\")\n",
    "        payment_date = last_weekday.strftime(\"%d.%m.%Y\")\n",
    "\n",
    "        print(f\"{month_name}: {payment_date}\")\n",
    "\n",
    "display_payment_dates()\n"
   ]
  },
  {
   "cell_type": "markdown",
   "metadata": {},
   "source": [
    "#### Zadanie 4"
   ]
  },
  {
   "cell_type": "code",
   "execution_count": 2,
   "metadata": {},
   "outputs": [],
   "source": [
    "import csv\n",
    "import random\n",
    "from statistics import mean, median\n",
    "\n",
    "def read_lego_sets(filename):\n",
    "    with open(filename, 'r', encoding='utf-8') as file:\n",
    "        return list(csv.DictReader(file))\n",
    "\n",
    "def filter_sets_by_year(lego_sets, year):\n",
    "    return [lego_set for lego_set in lego_sets if int(lego_set['year']) == year]\n",
    "\n",
    "def display_stats(lego_sets):\n",
    "    if not lego_sets:\n",
    "        print(\"No LEGO sets found for the given year.\")\n",
    "        return\n",
    "\n",
    "    piece_counts = [int(lego_set['num_parts']) for lego_set in lego_sets]\n",
    "\n",
    "    print(\"\\nLEGO Sets Statistics for the Given Year:\")\n",
    "    print(f\"Number of sets: {len(lego_sets)}\")\n",
    "    print(f\"Average number of pieces: {mean(piece_counts):.2f}\")\n",
    "    print(f\"Median number of pieces: {median(piece_counts)}\")\n",
    "\n",
    "def display_random_set(lego_sets):\n",
    "    if not lego_sets:\n",
    "        print(\"No LEGO sets found for the given year.\")\n",
    "        return\n",
    "\n",
    "    random_set = random.choice(lego_sets)\n",
    "    print(\"\\nRandom LEGO Set from the Given Year:\")\n",
    "    print(f\"Set ID: {random_set['set_num']}\")\n",
    "    print(f\"Set Name: {random_set['name']}\")\n",
    "    print(f\"Set Image URL: {random_set['img_url']}\")\n",
    "\n",
    "if __name__ == \"__main__\":\n",
    "    filename = r\"C:\\Users\\Komputer\\Desktop\\export\\sets.csv\"  \n",
    "    try:\n",
    "        year = int(input(\"Enter the year (from 1949 to 2024): \"))\n",
    "        lego_sets = read_lego_sets(filename)\n",
    "        display_stats(filter_sets_by_year(lego_sets, year))\n",
    "        display_random_set(filter_sets_by_year(lego_sets, year))\n",
    "    except ValueError:\n",
    "        print(\"Invalid input. Please enter a valid year.\")\n"
   ]
  }
 ],
 "metadata": {
  "kernelspec": {
   "display_name": "Python 3",
   "language": "python",
   "name": "python3"
  },
  "language_info": {
   "codemirror_mode": {
    "name": "ipython",
    "version": 3
   },
   "file_extension": ".py",
   "mimetype": "text/x-python",
   "name": "python",
   "nbconvert_exporter": "python",
   "pygments_lexer": "ipython3",
   "version": "3.11.5"
  }
 },
 "nbformat": 4,
 "nbformat_minor": 2
}
